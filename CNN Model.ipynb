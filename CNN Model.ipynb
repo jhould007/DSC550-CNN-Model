{
 "cells": [
  {
   "cell_type": "markdown",
   "id": "ed1cb02e",
   "metadata": {},
   "source": [
    "# CNN Model\n",
    "By Josh Houlding\n",
    "\n",
    "<b>Assignment Instructions Page:</b> https://halo.gcu.edu/courses/DSC-550-O500-20240711#assignment-submission/328899c3-997c-47da-b763-ad68d280d5ef\n",
    "\n",
    "The aim behind CNN is to classify images and text within large amounts of data in order to train a neural network to identify them with as close to 100% accuracy as possible. \n",
    "\n",
    "In this assignment, students will build and train a convolutional neural network (CNN) to recognize an image from a set. The general idea is that you will use a large set of images to train the neural network, then you will use it to identify an image presented to it.\n",
    "\n",
    "# Assignment Instructions\n",
    "Complete the following steps, then write a comprehensive technical report as a Python Jupyter notebook (to include all code, code comments, all outputs, plots, and analysis). Make sure the project documentation contains a) problem statement, b) algorithm of the solution, c) analysis of the findings, and d) references.\n",
    "\n",
    "1. Browse the Kaggle \"Datasets,\" located in the topic Resources.\n",
    "2. Select one dataset for your project.\n",
    "3. Write a short description of the dataset and what your CNN will recognize.\n",
    "4. Import the appropriate libraries: tensorflow, keras, numpy, glob, matplotlib, MaxPooling2D, and any others that would fit your model.\n",
    "5. Initialize the CNN.\n",
    "6. Utilize the following arguments to add a convolutional layer: Filters, Kernel_size, Padding, Activation Function – Relu, and Input shape.\n",
    "7. Downsample the images by applying a pooling operation.\n",
    "8. Did you choose max pooling, average pooling, or global pooling? Explain which type of pooling you used and why. What are the advantages and disadvantages of your pooling choice?\n",
    "9. Repeat steps 5–7 to add 3 more convolutional layers.\n",
    "10. Convert the dataset into a 1-D array for input into the next layer (flattening the dataset), which is fully linked.\n",
    "11. Use the dense class to create a fully connected layer (relu activation) and output one (softmax activation).\n",
    "12. Train, then appraise the CNN you just created. Compile the CNN model using compile, with three parameters:\n",
    "    - Loss Function: use categorical_crossentropy\n",
    "    - Optimizer: your choice (Adam, Momentum, Nesterov Accelerated Gradient, or Min-Batch Gradient Descent).\n",
    "    - Metrics Arguments: Accuracy to evaluate performance. Fit the model on the training set with at least 85 iterations (epochs). Evaluate the result. Compare the accuracy and loss function for both the training and test dataset. Plot the loss graph. Plot the accuracy graph.\n",
    "13. Discuss how the CNN model is utilized in recognizing the images from the dataset and which optimizer provides for the performance model (highest accuracy and how many times to get to that level) the overall performance of your model. Justify your choice of optimizer by comparing it to two other optimizers."
   ]
  },
  {
   "cell_type": "markdown",
   "id": "d3a2e6e0",
   "metadata": {},
   "source": [
    "# Tasks 1-3\n",
    "<b>1:</b> <i>Browse the Kaggle \"Datasets,\" located in the topic Resources.</i> <br>\n",
    "<b>2:</b> <i>Select one dataset for your project.</i> <br>\n",
    "<b>3:</b> <i>Write a short description of the dataset and what your CNN will recognize.</i>\n",
    "\n",
    "<b>Selected Dataset:</b> [Gender Recognizer | Kaggle](https://www.kaggle.com/datasets/humairmunir/gender-recognizer)\n",
    "\n",
    "This dataset contains 646 photos of men and 646 photos of women, and is intended for use in a CNN-powered gender classification model. This is the description on the Kaggle page: \n",
    "\n",
    "> Gender Recognition: Male and Female Images\n",
    "\n",
    "> This comprehensive dataset is designed for gender recognition tasks and consists of a wide variety of male and female images collected from public resources. It includes:\n",
    "\n",
    "> Diverse Age Groups: Images of individuals from various age groups to ensure a broad representation.\n",
    "Different Ethnicities: A mix of ethnic backgrounds to support the development of inclusive and generalizable models.\n",
    "Variety of Environments: Photos taken in diverse settings, including indoor and outdoor locations, to add realism and variability.\n",
    "Multiple Angles and Expressions: Images capturing different facial angles and expressions to challenge and enhance model robustness.\n",
    "This dataset is ideal for training and evaluating machine learning models aimed at gender classification. Each image is labeled as either 'Male' or 'Female' to facilitate supervised learning tasks.\n",
    "\n",
    "> *Usage:\n",
    "Gender Recognition: Develop models to classify gender based on facial features.\n",
    "Transfer Learning: Fine-tune pre-trained models on this dataset for gender recognition.\n",
    "Research and Development: Use the dataset for academic and commercial research to explore gender classification techniques and improve algorithm performance.\n",
    "Data Collection:\n",
    "The images in this dataset were gathered from publicly available resources, ensuring a rich and diverse set of examples for robust model training and evaluation. Proper permissions and usage rights were considered in the compilation of this dataset.\n",
    "\n",
    "Once trained on this dataset, my CNN will take an image of a person's face and classify them as either male or female."
   ]
  },
  {
   "cell_type": "markdown",
   "id": "d2c3cf75",
   "metadata": {},
   "source": [
    "# Task 4\n",
    "<i>Import the appropriate libraries: tensorflow, keras, numpy, glob, matplotlib, MaxPooling2D, and any others that would fit your model.</i>"
   ]
  },
  {
   "cell_type": "code",
   "execution_count": 1,
   "id": "0b442e08",
   "metadata": {},
   "outputs": [],
   "source": [
    "# Import core CNN libraries\n",
    "import tensorflow as tf\n",
    "from tensorflow.keras.models import Sequential\n",
    "from tensorflow.keras.layers import Conv2D, MaxPooling2D, Flatten, Dense, Dropout, Input\n",
    "from tensorflow.keras.preprocessing.image import ImageDataGenerator\n",
    "\n",
    "# Import additional useful libraries\n",
    "import numpy as np\n",
    "import matplotlib.pyplot as plt\n",
    "import glob\n",
    "import os\n",
    "import pandas as pd\n",
    "from sklearn.model_selection import train_test_split\n",
    "from sklearn.metrics import classification_report, confusion_matrix"
   ]
  },
  {
   "cell_type": "markdown",
   "id": "9f138f93",
   "metadata": {},
   "source": [
    "# Tasks 5-7\n",
    "<b>5: </b><i>Initialize the CNN.</i> <br>\n",
    "<b>6: </b><i>Utilize the following arguments to add a convolutional layer: Filters, Kernel_size, Padding, Activation Function – Relu, and Input shape.</i> <br>\n",
    "<b>7: </b><i>Downsample the images by applying a pooling operation.</i>"
   ]
  },
  {
   "cell_type": "code",
   "execution_count": 2,
   "id": "845412dd",
   "metadata": {},
   "outputs": [],
   "source": [
    "# Initialize CNN\n",
    "model = Sequential()\n",
    "\n",
    "# Add input layer\n",
    "model.add(Input(shape=(64, 64, 3)))\n",
    "\n",
    "# Add 1st convolutional layer w/max pooling\n",
    "model.add(Conv2D(filters=32, kernel_size=(3, 3), padding=\"same\", activation=\"relu\"))\n",
    "model.add(MaxPooling2D(pool_size=(2, 2)))"
   ]
  },
  {
   "cell_type": "markdown",
   "id": "d2cbcf2e",
   "metadata": {},
   "source": [
    "# Task 8\n",
    "<i>Did you choose max pooling, average pooling, or global pooling? Explain which type of pooling you used and why. What are the advantages and disadvantages of your pooling choice?</i>\n",
    "\n",
    "I chose max pooling for my model because it takes the feature with the maximum importance from each region of the input feature map. This enables the model to focus on the most crucial parts of the image for predicting a person's gender based on their photo.\n",
    "\n",
    "Average pooling is sub-optimal because it would dilute strong features with weaker ones, and global pooling, which boils the entire input feature map down to a single value, is too strong and may cause important spacial information to be lost."
   ]
  },
  {
   "cell_type": "markdown",
   "id": "46604403",
   "metadata": {},
   "source": [
    "# Task 9\n",
    "<i>Repeat steps 5–7 to add 3 more convolutional layers.</i>"
   ]
  },
  {
   "cell_type": "code",
   "execution_count": 3,
   "id": "d0e0d12f",
   "metadata": {},
   "outputs": [],
   "source": [
    "# Add 2nd convolutional layer w/max pooling\n",
    "model.add(Conv2D(filters=64, kernel_size=(3, 3), padding=\"same\", activation=\"relu\"))\n",
    "model.add(MaxPooling2D(pool_size=(2, 2)))\n",
    "\n",
    "# Add 3rd convolutional layer w/max pooling\n",
    "model.add(Conv2D(filters=128, kernel_size=(3, 3), padding=\"same\", activation=\"relu\"))\n",
    "model.add(MaxPooling2D(pool_size=(2, 2)))\n",
    "\n",
    "# Add 4th convolutional layer w/max pooling\n",
    "model.add(Conv2D(filters=256, kernel_size=(3, 3), padding=\"same\", activation=\"relu\"))\n",
    "model.add(MaxPooling2D(pool_size=(2, 2)))"
   ]
  },
  {
   "cell_type": "markdown",
   "id": "6188cce1",
   "metadata": {},
   "source": [
    "# Task 10\n",
    "<i>Convert the dataset into a 1-D array for input into the next layer (flattening the dataset), which is fully linked.</i>"
   ]
  },
  {
   "cell_type": "code",
   "execution_count": 4,
   "id": "68e024a6",
   "metadata": {},
   "outputs": [],
   "source": [
    "# Flatten layers\n",
    "model.add(Flatten())"
   ]
  },
  {
   "cell_type": "markdown",
   "id": "878ef44c",
   "metadata": {},
   "source": [
    "# Task 11\n",
    "<i>Use the dense class to create a fully connected layer (relu activation) and output one (softmax activation).</i>"
   ]
  },
  {
   "cell_type": "code",
   "execution_count": 5,
   "id": "9ccc8ea6",
   "metadata": {},
   "outputs": [],
   "source": [
    "# Add fully connected layer\n",
    "model.add(Dense(units=128, activation=\"relu\"))\n",
    "\n",
    "# Add dropout layer to avoid overfitting\n",
    "model.add(Dropout(0.5))\n",
    "\n",
    "# Add output layer\n",
    "model.add(Dense(units=2, activation=\"softmax\"))"
   ]
  },
  {
   "cell_type": "markdown",
   "id": "f1cdd11e",
   "metadata": {},
   "source": [
    "# Task 12\n",
    "<i>Train, then appraise the CNN you just created. Compile the CNN model using compile, with three parameters:</i>\n",
    "* <i>Loss Function: use categorical_crossentropy.</i>\n",
    "* <i>Optimizer: your choice (Adam, Momentum, Nesterov Accelerated Gradient, or Min-Batch Gradient Descent).</i>\n",
    "* <i>Metrics Arguments: Accuracy to evaluate performance. Fit the model on the training set with at least 85 iterations (epochs). Evaluate the result. Compare the accuracy and loss function for both the training and test dataset. Plot the loss graph. Plot the accuracy graph.</i>\n",
    "\n",
    "### Loading the data"
   ]
  },
  {
   "cell_type": "code",
   "execution_count": 6,
   "id": "8e87043f",
   "metadata": {},
   "outputs": [
    {
     "name": "stdout",
     "output_type": "stream",
     "text": [
      "Found 1033 images belonging to 2 classes.\n",
      "Found 258 images belonging to 2 classes.\n",
      "{'Men': 0, 'Women': 1}\n"
     ]
    }
   ],
   "source": [
    "from tensorflow.keras.preprocessing.image import ImageDataGenerator\n",
    "\n",
    "# Define path to dataset\n",
    "dataset_dir = \"GenderRecognizerData\"\n",
    "\n",
    "# Initialize ImageDataGenerator\n",
    "datagen = ImageDataGenerator(rescale=1.0/255, validation_split=0.2)\n",
    "\n",
    "# Load training data\n",
    "train_generator = datagen.flow_from_directory(\n",
    "    dataset_dir,\n",
    "    target_size=(64, 64),\n",
    "    batch_size=32,\n",
    "    class_mode=\"categorical\", \n",
    "    subset=\"training\"\n",
    ")\n",
    "\n",
    "# Load testing data\n",
    "test_generator = datagen.flow_from_directory(\n",
    "    dataset_dir,\n",
    "    target_size=(64, 64),\n",
    "    batch_size=32,\n",
    "    class_mode=\"categorical\",\n",
    "    subset=\"validation\"\n",
    ")\n",
    "\n",
    "# Show class indices to ensure labels are correct\n",
    "print(train_generator.class_indices)"
   ]
  },
  {
   "cell_type": "markdown",
   "id": "e0ca5b3f",
   "metadata": {},
   "source": [
    "### Compiling the model"
   ]
  },
  {
   "cell_type": "code",
   "execution_count": 7,
   "id": "dbf3d9ee",
   "metadata": {},
   "outputs": [],
   "source": [
    "# Compile model\n",
    "model.compile(optimizer=\"adam\", loss=\"categorical_crossentropy\", metrics=[\"accuracy\"])"
   ]
  },
  {
   "cell_type": "markdown",
   "id": "f53b0426",
   "metadata": {},
   "source": [
    "To avoid running the model for more epochs than necessary, we will implement early stopping so the training process will halt if an additional epoch yields negligible improvements to accuracy. We will also set the model up to reduce the learning rate when this happens, since this will lead to a final solution more quickly due to smaller weight adjustments per epoch."
   ]
  },
  {
   "cell_type": "code",
   "execution_count": 8,
   "id": "2ccb308e",
   "metadata": {},
   "outputs": [],
   "source": [
    "from tensorflow.keras.callbacks import EarlyStopping, ReduceLROnPlateau\n",
    "\n",
    "# Implement early stopping and learning rate reducer mechanisms\n",
    "early_stopping = EarlyStopping(monitor=\"val_loss\", patience=10, restore_best_weights=True)\n",
    "reduce_lr = ReduceLROnPlateau(monitor=\"val_loss\", factor=0.2, patience=5, min_lr=0.001)"
   ]
  },
  {
   "cell_type": "markdown",
   "id": "f5c6b1de",
   "metadata": {},
   "source": [
    "### Training the model\n",
    "We will plan to run the model for 100 epochs initially, stopping if subsequent epochs yield negligible improvements to accuracy or loss."
   ]
  },
  {
   "cell_type": "code",
   "execution_count": 9,
   "id": "090870eb",
   "metadata": {},
   "outputs": [
    {
     "name": "stdout",
     "output_type": "stream",
     "text": [
      "Epoch 1/100\n",
      "\u001b[1m33/33\u001b[0m \u001b[32m━━━━━━━━━━━━━━━━━━━━\u001b[0m\u001b[37m\u001b[0m \u001b[1m29s\u001b[0m 663ms/step - accuracy: 0.5002 - loss: 0.7096 - val_accuracy: 0.5000 - val_loss: 0.6889 - learning_rate: 0.0010\n",
      "Epoch 2/100\n",
      "\u001b[1m33/33\u001b[0m \u001b[32m━━━━━━━━━━━━━━━━━━━━\u001b[0m\u001b[37m\u001b[0m \u001b[1m16s\u001b[0m 407ms/step - accuracy: 0.5597 - loss: 0.6819 - val_accuracy: 0.6124 - val_loss: 0.6512 - learning_rate: 0.0010\n",
      "Epoch 3/100\n",
      "\u001b[1m33/33\u001b[0m \u001b[32m━━━━━━━━━━━━━━━━━━━━\u001b[0m\u001b[37m\u001b[0m \u001b[1m15s\u001b[0m 398ms/step - accuracy: 0.6517 - loss: 0.6399 - val_accuracy: 0.6628 - val_loss: 0.6503 - learning_rate: 0.0010\n",
      "Epoch 4/100\n",
      "\u001b[1m33/33\u001b[0m \u001b[32m━━━━━━━━━━━━━━━━━━━━\u001b[0m\u001b[37m\u001b[0m \u001b[1m15s\u001b[0m 401ms/step - accuracy: 0.6981 - loss: 0.5894 - val_accuracy: 0.6240 - val_loss: 0.6459 - learning_rate: 0.0010\n",
      "Epoch 5/100\n",
      "\u001b[1m33/33\u001b[0m \u001b[32m━━━━━━━━━━━━━━━━━━━━\u001b[0m\u001b[37m\u001b[0m \u001b[1m15s\u001b[0m 388ms/step - accuracy: 0.6871 - loss: 0.5729 - val_accuracy: 0.7171 - val_loss: 0.5747 - learning_rate: 0.0010\n",
      "Epoch 6/100\n",
      "\u001b[1m33/33\u001b[0m \u001b[32m━━━━━━━━━━━━━━━━━━━━\u001b[0m\u001b[37m\u001b[0m \u001b[1m16s\u001b[0m 404ms/step - accuracy: 0.7438 - loss: 0.5184 - val_accuracy: 0.7519 - val_loss: 0.5470 - learning_rate: 0.0010\n",
      "Epoch 7/100\n",
      "\u001b[1m33/33\u001b[0m \u001b[32m━━━━━━━━━━━━━━━━━━━━\u001b[0m\u001b[37m\u001b[0m \u001b[1m15s\u001b[0m 387ms/step - accuracy: 0.8014 - loss: 0.4644 - val_accuracy: 0.7132 - val_loss: 0.5856 - learning_rate: 0.0010\n",
      "Epoch 8/100\n",
      "\u001b[1m33/33\u001b[0m \u001b[32m━━━━━━━━━━━━━━━━━━━━\u001b[0m\u001b[37m\u001b[0m \u001b[1m16s\u001b[0m 391ms/step - accuracy: 0.8078 - loss: 0.4215 - val_accuracy: 0.7287 - val_loss: 0.5601 - learning_rate: 0.0010\n",
      "Epoch 9/100\n",
      "\u001b[1m33/33\u001b[0m \u001b[32m━━━━━━━━━━━━━━━━━━━━\u001b[0m\u001b[37m\u001b[0m \u001b[1m15s\u001b[0m 396ms/step - accuracy: 0.8293 - loss: 0.3667 - val_accuracy: 0.7209 - val_loss: 0.5803 - learning_rate: 0.0010\n",
      "Epoch 10/100\n",
      "\u001b[1m33/33\u001b[0m \u001b[32m━━━━━━━━━━━━━━━━━━━━\u001b[0m\u001b[37m\u001b[0m \u001b[1m15s\u001b[0m 400ms/step - accuracy: 0.8686 - loss: 0.3012 - val_accuracy: 0.7442 - val_loss: 0.5409 - learning_rate: 0.0010\n",
      "Epoch 11/100\n",
      "\u001b[1m33/33\u001b[0m \u001b[32m━━━━━━━━━━━━━━━━━━━━\u001b[0m\u001b[37m\u001b[0m \u001b[1m15s\u001b[0m 396ms/step - accuracy: 0.8811 - loss: 0.2782 - val_accuracy: 0.7519 - val_loss: 0.5823 - learning_rate: 0.0010\n",
      "Epoch 12/100\n",
      "\u001b[1m33/33\u001b[0m \u001b[32m━━━━━━━━━━━━━━━━━━━━\u001b[0m\u001b[37m\u001b[0m \u001b[1m16s\u001b[0m 396ms/step - accuracy: 0.9120 - loss: 0.2145 - val_accuracy: 0.7093 - val_loss: 0.6494 - learning_rate: 0.0010\n",
      "Epoch 13/100\n",
      "\u001b[1m33/33\u001b[0m \u001b[32m━━━━━━━━━━━━━━━━━━━━\u001b[0m\u001b[37m\u001b[0m \u001b[1m15s\u001b[0m 383ms/step - accuracy: 0.9147 - loss: 0.2156 - val_accuracy: 0.7519 - val_loss: 0.6149 - learning_rate: 0.0010\n",
      "Epoch 14/100\n",
      "\u001b[1m33/33\u001b[0m \u001b[32m━━━━━━━━━━━━━━━━━━━━\u001b[0m\u001b[37m\u001b[0m \u001b[1m15s\u001b[0m 405ms/step - accuracy: 0.9394 - loss: 0.1479 - val_accuracy: 0.7481 - val_loss: 0.7152 - learning_rate: 0.0010\n",
      "Epoch 15/100\n",
      "\u001b[1m33/33\u001b[0m \u001b[32m━━━━━━━━━━━━━━━━━━━━\u001b[0m\u001b[37m\u001b[0m \u001b[1m15s\u001b[0m 394ms/step - accuracy: 0.9462 - loss: 0.1295 - val_accuracy: 0.7364 - val_loss: 0.7912 - learning_rate: 0.0010\n",
      "Epoch 16/100\n",
      "\u001b[1m33/33\u001b[0m \u001b[32m━━━━━━━━━━━━━━━━━━━━\u001b[0m\u001b[37m\u001b[0m \u001b[1m15s\u001b[0m 401ms/step - accuracy: 0.9661 - loss: 0.0977 - val_accuracy: 0.7558 - val_loss: 0.8283 - learning_rate: 0.0010\n",
      "Epoch 17/100\n",
      "\u001b[1m33/33\u001b[0m \u001b[32m━━━━━━━━━━━━━━━━━━━━\u001b[0m\u001b[37m\u001b[0m \u001b[1m15s\u001b[0m 389ms/step - accuracy: 0.9848 - loss: 0.0510 - val_accuracy: 0.7519 - val_loss: 0.9108 - learning_rate: 0.0010\n",
      "Epoch 18/100\n",
      "\u001b[1m33/33\u001b[0m \u001b[32m━━━━━━━━━━━━━━━━━━━━\u001b[0m\u001b[37m\u001b[0m \u001b[1m15s\u001b[0m 394ms/step - accuracy: 0.9869 - loss: 0.0438 - val_accuracy: 0.7171 - val_loss: 1.0864 - learning_rate: 0.0010\n",
      "Epoch 19/100\n",
      "\u001b[1m33/33\u001b[0m \u001b[32m━━━━━━━━━━━━━━━━━━━━\u001b[0m\u001b[37m\u001b[0m \u001b[1m16s\u001b[0m 402ms/step - accuracy: 0.9851 - loss: 0.0483 - val_accuracy: 0.7442 - val_loss: 0.9737 - learning_rate: 0.0010\n",
      "Epoch 20/100\n",
      "\u001b[1m33/33\u001b[0m \u001b[32m━━━━━━━━━━━━━━━━━━━━\u001b[0m\u001b[37m\u001b[0m \u001b[1m16s\u001b[0m 402ms/step - accuracy: 0.9836 - loss: 0.0569 - val_accuracy: 0.7597 - val_loss: 0.8910 - learning_rate: 0.0010\n"
     ]
    }
   ],
   "source": [
    "# Suppress warnings\n",
    "import warnings\n",
    "warnings.filterwarnings(\"ignore\", category=UserWarning, module=\"keras\")\n",
    "\n",
    "# Train the model\n",
    "history = model.fit(train_generator, epochs=100, validation_data=test_generator, callbacks=[early_stopping, reduce_lr])"
   ]
  },
  {
   "cell_type": "markdown",
   "id": "60046b96",
   "metadata": {},
   "source": [
    "The model is done training, so it is time for evaluation. We will compare the accuracy and loss of the model on both the train and test datasets.\n",
    "\n",
    "### Evaluating the model"
   ]
  },
  {
   "cell_type": "code",
   "execution_count": 15,
   "id": "b3d79656",
   "metadata": {},
   "outputs": [
    {
     "name": "stdout",
     "output_type": "stream",
     "text": [
      "\u001b[1m33/33\u001b[0m \u001b[32m━━━━━━━━━━━━━━━━━━━━\u001b[0m\u001b[37m\u001b[0m \u001b[1m12s\u001b[0m 348ms/step - accuracy: 0.9090 - loss: 0.2516\n",
      "\u001b[1m9/9\u001b[0m \u001b[32m━━━━━━━━━━━━━━━━━━━━\u001b[0m\u001b[37m\u001b[0m \u001b[1m3s\u001b[0m 339ms/step - accuracy: 0.7452 - loss: 0.5415\n"
     ]
    }
   ],
   "source": [
    "# Find the model's accuracy and loss for the training set\n",
    "train_loss, train_accuracy = model.evaluate(train_generator)\n",
    "\n",
    "# Find the model's accuracy and loss for the test set\n",
    "test_loss, test_accuracy = model.evaluate(test_generator)"
   ]
  },
  {
   "cell_type": "code",
   "execution_count": 18,
   "id": "2f32789c",
   "metadata": {},
   "outputs": [
    {
     "name": "stdout",
     "output_type": "stream",
     "text": [
      "Training accuracy: 0.9080 \n",
      " Training loss: 0.2468\n",
      "Testing accuracy: 0.7442 \n",
      " Testing loss: 0.5409\n"
     ]
    }
   ],
   "source": [
    "# Display evaluation results\n",
    "print(f\"Training accuracy: {train_accuracy:.4f} \\n Training loss: {train_loss:.4f}\")\n",
    "print(f\"Testing accuracy: {test_accuracy:.4f} \\n Testing loss: {test_loss:.4f}\")"
   ]
  },
  {
   "cell_type": "markdown",
   "id": "aa9113c1",
   "metadata": {},
   "source": [
    "We see from the results that the model is highly accurate on the training set, with minimal loss, but accuracy drops off sharply during testing, and loss increases. This indicates possible overfitting problems that we will explore in more detail after graphing accuracy and loss for both the training and testing sets."
   ]
  },
  {
   "cell_type": "code",
   "execution_count": 17,
   "id": "cc794a08",
   "metadata": {},
   "outputs": [
    {
     "data": {
      "image/png": "[encoded data removed]",
      "text/plain": [
       "<Figure size 1200x600 with 2 Axes>"
      ]
     },
     "metadata": {},
     "output_type": "display_data"
    }
   ],
   "source": [
    "# Plot training and testing accuracy values\n",
    "plt.figure(figsize=(12, 6))\n",
    "plt.subplot(1, 2, 1)\n",
    "plt.plot(history.history[\"accuracy\"])\n",
    "plt.plot(history.history[\"val_accuracy\"])\n",
    "plt.title(\"Model Accuracy\")\n",
    "plt.xlabel(\"Epoch\")\n",
    "plt.ylabel(\"Accuracy\")\n",
    "plt.legend([\"Training Accuracy\", \"Testing Accuracy\"])\n",
    "\n",
    "# Plot training and testing loss values\n",
    "plt.subplot(1, 2, 2)\n",
    "plt.plot(history.history[\"loss\"])\n",
    "plt.plot(history.history[\"val_loss\"])\n",
    "plt.title(\"Model Loss\")\n",
    "plt.xlabel(\"Epoch\")\n",
    "plt.ylabel(\"Loss\")\n",
    "plt.legend([\"Training Loss\", \"Testing Loss\"])\n",
    "\n",
    "plt.show()"
   ]
  },
  {
   "cell_type": "markdown",
   "id": "173f6e7d",
   "metadata": {},
   "source": [
    "<b>Accuracy graph: </b> We see that model accuracy steadily increases until it reaches about 0.97, then mostly levels off with slight fluctuations, while the testing accuracy levels off much sooner at about 0.73. This discrepancy could be the result of the model overfitting to the training data and struggling to retain accuracy with new unseen data.\n",
    "\n",
    "<b>Loss graph: </b>During training, the model's loss steadily decreases, while it greatly surges during testing. This also indicates potential overfitting problems, as it's possible that the model gets better at fitting to the training set over the training process, and this hampers its ability to fit to the validation set. \n",
    "\n",
    "It is strange that overfitting is a likely issue with the model, since we did include a dropout layer, which is supposed to avoid this exact problem by disabling a subset of neurons during each training batch. Other remedies could include creating more training data by applying random transformations (rotations, shifts, etc.) to images, adding an L1 or L2 regularizer, or implementing batch normalization."
   ]
  },
  {
   "cell_type": "markdown",
   "id": "dd23459d",
   "metadata": {},
   "source": [
    "# Task 13\n",
    "<i>Discuss how the CNN model is utilized in recognizing the images from the dataset and which optimizer provides for the performance model (highest accuracy and how many times to get to that level) the overall performance of your model. Justify your choice of optimizer by comparing it to two other optimizers.</i>"
   ]
  },
  {
   "cell_type": "markdown",
   "id": "65b0ad39",
   "metadata": {},
   "source": [
    "The CNN recognizes and classifies the images using the following procedure: \n",
    "\n",
    "1. Images are passed into the model through the input layer.\n",
    "2. The convolutional layers create feature maps from the images using filters. \n",
    "3. The activation functions of the convolutional layers (eg. ReLU) enable learning of more complex patterns via introducing nonlinearity.\n",
    "4. The feature maps are downsampled by pooling layers to reduce their complexity while retaining important features.\n",
    "5. A flattening layer transforms the 2D feature maps into a 1D array. \n",
    "6. The fully connected layer takes the 1D feature map array and performs classification. \n",
    "7. The output layer generates the final classification prediction or class probabilities.\n",
    "\n",
    "The Adam (Adaptive Moment Estimation) optimizer is a popular choice for deep learning models for several reasons. First, it provides adaptive learning rates for individual parameters, which enables the model to converge to a final prediction quickly. Second, it combines the benefits of two other optimizers, AdaGrad (provides adaptive learning rates) and RMSProp (effective with noisy data), making it an excellent optimizer for a wide variety of applications. Finally, Adam includes bias correction and momentum, which further enhance its performance. \n",
    "\n",
    "Adam is preferable to Stochastic Gradient Descent (SGD) because SGD struggles with noisy data, and it is also better than Root Mean Square Propagation (RMSProp), since Adam does not need extensive hyperparameter tuning due to its adaptive features."
   ]
  },
  {
   "attachments": {},
   "cell_type": "markdown",
   "id": "d76ce7a4",
   "metadata": {},
   "source": [
    "# References\n",
    "Gender recognizer. (2024, July 7). Kaggle. https://www.kaggle.com/datasets/humairmunir/gender-recognizer <br>\n",
    "Analytics Vidhya. (2024, July 22). Image classification using CNN. https://www.analyticsvidhya.com/blog/2020/02/learn-image-classification-cnn-convolutional-neural-networks-3-datasets/ <br>\n",
    "Microsoft. (2024). Copilot [Large language model]. https://www.bing.com/?FORM=Z9FD1 <br>\n",
    "OpenAI. (2024). ChatGPT [Large language model]. https://chatgpt.com/"
   ]
  }
 ],
 "metadata": {
  "kernelspec": {
   "display_name": "Python 3 (ipykernel)",
   "language": "python",
   "name": "python3"
  },
  "language_info": {
   "codemirror_mode": {
    "name": "ipython",
    "version": 3
   },
   "file_extension": ".py",
   "mimetype": "text/x-python",
   "name": "python",
   "nbconvert_exporter": "python",
   "pygments_lexer": "ipython3",
   "version": "3.11.5"
  }
 },
 "nbformat": 4,
 "nbformat_minor": 5
}
